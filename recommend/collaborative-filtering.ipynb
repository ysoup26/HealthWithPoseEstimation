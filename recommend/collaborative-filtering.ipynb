{
 "cells": [
  {
   "cell_type": "code",
   "execution_count": 21,
   "metadata": {},
   "outputs": [],
   "source": [
    "import pandas as pd\n",
    "import numpy as np\n",
    "import matplotlib.pyplot as plt\n",
    "import seaborn as sns\n",
    "from ast import literal_eval\n",
    "from sklearn.feature_extraction.text import TfidfVectorizer\n",
    "from sklearn.feature_extraction.text import CountVectorizer\n",
    "from sklearn.metrics.pairwise import cosine_similarity"
   ]
  },
  {
   "cell_type": "code",
   "execution_count": 36,
   "metadata": {},
   "outputs": [],
   "source": [
    "data = pd.read_csv('./data/user_bad.csv')\n",
    "#user = pd.read_csv('./data/user.csv')"
   ]
  },
  {
   "cell_type": "code",
   "execution_count": 37,
   "metadata": {},
   "outputs": [
    {
     "data": {
      "text/html": [
       "<div>\n",
       "<style scoped>\n",
       "    .dataframe tbody tr th:only-of-type {\n",
       "        vertical-align: middle;\n",
       "    }\n",
       "\n",
       "    .dataframe tbody tr th {\n",
       "        vertical-align: top;\n",
       "    }\n",
       "\n",
       "    .dataframe thead th {\n",
       "        text-align: right;\n",
       "    }\n",
       "</style>\n",
       "<table border=\"1\" class=\"dataframe\">\n",
       "  <thead>\n",
       "    <tr style=\"text-align: right;\">\n",
       "      <th></th>\n",
       "      <th>userId</th>\n",
       "      <th>bad_health_id</th>\n",
       "      <th>bad_health</th>\n",
       "      <th>score</th>\n",
       "    </tr>\n",
       "  </thead>\n",
       "  <tbody>\n",
       "    <tr>\n",
       "      <th>0</th>\n",
       "      <td>0</td>\n",
       "      <td>0</td>\n",
       "      <td>leg</td>\n",
       "      <td>2</td>\n",
       "    </tr>\n",
       "    <tr>\n",
       "      <th>1</th>\n",
       "      <td>0</td>\n",
       "      <td>1</td>\n",
       "      <td>knee</td>\n",
       "      <td>1</td>\n",
       "    </tr>\n",
       "    <tr>\n",
       "      <th>2</th>\n",
       "      <td>1</td>\n",
       "      <td>2</td>\n",
       "      <td>arm</td>\n",
       "      <td>0</td>\n",
       "    </tr>\n",
       "    <tr>\n",
       "      <th>3</th>\n",
       "      <td>1</td>\n",
       "      <td>0</td>\n",
       "      <td>leg</td>\n",
       "      <td>1</td>\n",
       "    </tr>\n",
       "    <tr>\n",
       "      <th>4</th>\n",
       "      <td>2</td>\n",
       "      <td>0</td>\n",
       "      <td>leg</td>\n",
       "      <td>2</td>\n",
       "    </tr>\n",
       "  </tbody>\n",
       "</table>\n",
       "</div>"
      ],
      "text/plain": [
       "   userId  bad_health_id bad_health  score\n",
       "0       0              0        leg      2\n",
       "1       0              1       knee      1\n",
       "2       1              2        arm      0\n",
       "3       1              0        leg      1\n",
       "4       2              0        leg      2"
      ]
     },
     "execution_count": 37,
     "metadata": {},
     "output_type": "execute_result"
    }
   ],
   "source": [
    "data.head()\n",
    "#테이블을 만드려면 숫자로 해야되서 이렇게 함"
   ]
  },
  {
   "cell_type": "code",
   "execution_count": 98,
   "metadata": {},
   "outputs": [],
   "source": [
    "body_part_names = {\n",
    "    \"leg\":0,\n",
    "    \"knee\":1,\n",
    "    \"arm\":2,\n",
    "    \"waist\":3,\n",
    "    \"elbow\":4\n",
    "}"
   ]
  },
  {
   "cell_type": "code",
   "execution_count": 38,
   "metadata": {},
   "outputs": [
    {
     "data": {
      "text/html": [
       "<div>\n",
       "<style scoped>\n",
       "    .dataframe tbody tr th:only-of-type {\n",
       "        vertical-align: middle;\n",
       "    }\n",
       "\n",
       "    .dataframe tbody tr th {\n",
       "        vertical-align: top;\n",
       "    }\n",
       "\n",
       "    .dataframe thead th {\n",
       "        text-align: right;\n",
       "    }\n",
       "</style>\n",
       "<table border=\"1\" class=\"dataframe\">\n",
       "  <thead>\n",
       "    <tr style=\"text-align: right;\">\n",
       "      <th>bad_health_id</th>\n",
       "      <th>0</th>\n",
       "      <th>1</th>\n",
       "      <th>2</th>\n",
       "    </tr>\n",
       "    <tr>\n",
       "      <th>userId</th>\n",
       "      <th></th>\n",
       "      <th></th>\n",
       "      <th></th>\n",
       "    </tr>\n",
       "  </thead>\n",
       "  <tbody>\n",
       "    <tr>\n",
       "      <th>0</th>\n",
       "      <td>2.0</td>\n",
       "      <td>1.0</td>\n",
       "      <td>NaN</td>\n",
       "    </tr>\n",
       "    <tr>\n",
       "      <th>1</th>\n",
       "      <td>1.0</td>\n",
       "      <td>NaN</td>\n",
       "      <td>0.0</td>\n",
       "    </tr>\n",
       "    <tr>\n",
       "      <th>2</th>\n",
       "      <td>2.0</td>\n",
       "      <td>1.0</td>\n",
       "      <td>NaN</td>\n",
       "    </tr>\n",
       "    <tr>\n",
       "      <th>3</th>\n",
       "      <td>2.0</td>\n",
       "      <td>NaN</td>\n",
       "      <td>0.0</td>\n",
       "    </tr>\n",
       "  </tbody>\n",
       "</table>\n",
       "</div>"
      ],
      "text/plain": [
       "bad_health_id    0    1    2\n",
       "userId                      \n",
       "0              2.0  1.0  NaN\n",
       "1              1.0  NaN  0.0\n",
       "2              2.0  1.0  NaN\n",
       "3              2.0  NaN  0.0"
      ]
     },
     "execution_count": 38,
     "metadata": {},
     "output_type": "execute_result"
    }
   ],
   "source": [
    "data = data.pivot_table('score', index = 'userId', columns = 'bad_health_id')\n",
    "data.head()"
   ]
  },
  {
   "cell_type": "code",
   "execution_count": 39,
   "metadata": {},
   "outputs": [
    {
     "data": {
      "text/plain": [
       "(4, 3)"
      ]
     },
     "execution_count": 39,
     "metadata": {},
     "output_type": "execute_result"
    }
   ],
   "source": [
    "data.shape"
   ]
  },
  {
   "cell_type": "code",
   "execution_count": 40,
   "metadata": {},
   "outputs": [],
   "source": [
    "uesr_bads = pd.read_csv('./data/user_bad.csv')\n",
    "users = pd.read_csv('./data/user.csv')\n",
    "video = pd.read_csv('./data/health_video_old.csv')\n"
   ]
  },
  {
   "cell_type": "code",
   "execution_count": 41,
   "metadata": {},
   "outputs": [],
   "source": [
    "#users.rename(columns = {'id': 'userId'}, inplace = True)"
   ]
  },
  {
   "cell_type": "code",
   "execution_count": 42,
   "metadata": {},
   "outputs": [],
   "source": [
    "bad_users = pd.merge(uesr_bads, users, on = 'userId')"
   ]
  },
  {
   "cell_type": "code",
   "execution_count": 43,
   "metadata": {},
   "outputs": [
    {
     "name": "stdout",
     "output_type": "stream",
     "text": [
      "(6, 9)\n"
     ]
    },
    {
     "data": {
      "text/plain": [
       "<bound method NDFrame.head of    userId  bad_health_id bad_health  score    name gender  age  height  weight\n",
       "0       1              2        arm      0  user01  Woman   25     160      60\n",
       "1       1              0        leg      1  user01  Woman   25     160      60\n",
       "2       2              0        leg      2  user02    Man   25     180      80\n",
       "3       2              1       knee      1  user02    Man   25     180      80\n",
       "4       3              0        leg      2  user03    Man   20     170      70\n",
       "5       3              2        arm      0  user03    Man   20     170      70>"
      ]
     },
     "execution_count": 43,
     "metadata": {},
     "output_type": "execute_result"
    }
   ],
   "source": [
    "print(bad_users.shape)\n",
    "bad_users.head"
   ]
  },
  {
   "cell_type": "code",
   "execution_count": 44,
   "metadata": {},
   "outputs": [
    {
     "data": {
      "text/html": [
       "<div>\n",
       "<style scoped>\n",
       "    .dataframe tbody tr th:only-of-type {\n",
       "        vertical-align: middle;\n",
       "    }\n",
       "\n",
       "    .dataframe tbody tr th {\n",
       "        vertical-align: top;\n",
       "    }\n",
       "\n",
       "    .dataframe thead th {\n",
       "        text-align: right;\n",
       "    }\n",
       "</style>\n",
       "<table border=\"1\" class=\"dataframe\">\n",
       "  <thead>\n",
       "    <tr style=\"text-align: right;\">\n",
       "      <th>bad_health_id</th>\n",
       "      <th>0</th>\n",
       "      <th>1</th>\n",
       "      <th>2</th>\n",
       "    </tr>\n",
       "    <tr>\n",
       "      <th>userId</th>\n",
       "      <th></th>\n",
       "      <th></th>\n",
       "      <th></th>\n",
       "    </tr>\n",
       "  </thead>\n",
       "  <tbody>\n",
       "    <tr>\n",
       "      <th>1</th>\n",
       "      <td>1.0</td>\n",
       "      <td>0.0</td>\n",
       "      <td>0.0</td>\n",
       "    </tr>\n",
       "    <tr>\n",
       "      <th>2</th>\n",
       "      <td>2.0</td>\n",
       "      <td>1.0</td>\n",
       "      <td>0.0</td>\n",
       "    </tr>\n",
       "    <tr>\n",
       "      <th>3</th>\n",
       "      <td>2.0</td>\n",
       "      <td>0.0</td>\n",
       "      <td>0.0</td>\n",
       "    </tr>\n",
       "  </tbody>\n",
       "</table>\n",
       "</div>"
      ],
      "text/plain": [
       "bad_health_id    0    1    2\n",
       "userId                      \n",
       "1              1.0  0.0  0.0\n",
       "2              2.0  1.0  0.0\n",
       "3              2.0  0.0  0.0"
      ]
     },
     "execution_count": 44,
     "metadata": {},
     "output_type": "execute_result"
    }
   ],
   "source": [
    "data = bad_users.pivot_table('score', index = 'userId', columns = 'bad_health_id').fillna(0)\n",
    "data.head()"
   ]
  },
  {
   "cell_type": "code",
   "execution_count": 45,
   "metadata": {},
   "outputs": [],
   "source": [
    "#data = data.transpose()\n",
    "#data.head(2)"
   ]
  },
  {
   "cell_type": "code",
   "execution_count": 46,
   "metadata": {},
   "outputs": [
    {
     "name": "stdout",
     "output_type": "stream",
     "text": [
      "(3, 3)\n"
     ]
    }
   ],
   "source": [
    "bad_sim = cosine_similarity(data, data)\n",
    "print(bad_sim.shape)"
   ]
  },
  {
   "cell_type": "code",
   "execution_count": 47,
   "metadata": {},
   "outputs": [],
   "source": [
    "bad_sim_df = pd.DataFrame(data = bad_sim, index = data.index, columns = data.index)"
   ]
  },
  {
   "cell_type": "code",
   "execution_count": 48,
   "metadata": {},
   "outputs": [
    {
     "data": {
      "text/html": [
       "<div>\n",
       "<style scoped>\n",
       "    .dataframe tbody tr th:only-of-type {\n",
       "        vertical-align: middle;\n",
       "    }\n",
       "\n",
       "    .dataframe tbody tr th {\n",
       "        vertical-align: top;\n",
       "    }\n",
       "\n",
       "    .dataframe thead th {\n",
       "        text-align: right;\n",
       "    }\n",
       "</style>\n",
       "<table border=\"1\" class=\"dataframe\">\n",
       "  <thead>\n",
       "    <tr style=\"text-align: right;\">\n",
       "      <th>userId</th>\n",
       "      <th>1</th>\n",
       "      <th>2</th>\n",
       "      <th>3</th>\n",
       "    </tr>\n",
       "    <tr>\n",
       "      <th>userId</th>\n",
       "      <th></th>\n",
       "      <th></th>\n",
       "      <th></th>\n",
       "    </tr>\n",
       "  </thead>\n",
       "  <tbody>\n",
       "    <tr>\n",
       "      <th>1</th>\n",
       "      <td>1.000000</td>\n",
       "      <td>0.894427</td>\n",
       "      <td>1.000000</td>\n",
       "    </tr>\n",
       "    <tr>\n",
       "      <th>2</th>\n",
       "      <td>0.894427</td>\n",
       "      <td>1.000000</td>\n",
       "      <td>0.894427</td>\n",
       "    </tr>\n",
       "    <tr>\n",
       "      <th>3</th>\n",
       "      <td>1.000000</td>\n",
       "      <td>0.894427</td>\n",
       "      <td>1.000000</td>\n",
       "    </tr>\n",
       "  </tbody>\n",
       "</table>\n",
       "</div>"
      ],
      "text/plain": [
       "userId         1         2         3\n",
       "userId                              \n",
       "1       1.000000  0.894427  1.000000\n",
       "2       0.894427  1.000000  0.894427\n",
       "3       1.000000  0.894427  1.000000"
      ]
     },
     "execution_count": 48,
     "metadata": {},
     "output_type": "execute_result"
    }
   ],
   "source": [
    "bad_sim_df.head(3)"
   ]
  },
  {
   "cell_type": "code",
   "execution_count": 49,
   "metadata": {},
   "outputs": [
    {
     "name": "stdout",
     "output_type": "stream",
     "text": [
      "user1과 비슷한 사람\n"
     ]
    },
    {
     "data": {
      "text/plain": [
       "userId\n",
       "3    1.000000\n",
       "2    0.894427\n",
       "Name: 1, dtype: float64"
      ]
     },
     "execution_count": 49,
     "metadata": {},
     "output_type": "execute_result"
    }
   ],
   "source": [
    "print(\"user1과 비슷한 사람\")\n",
    "bad_sim_df[1].sort_values(ascending=False)[1:5]"
   ]
  },
  {
   "cell_type": "code",
   "execution_count": 101,
   "metadata": {},
   "outputs": [
    {
     "name": "stdout",
     "output_type": "stream",
     "text": [
      "leg\n",
      "arm\n"
     ]
    }
   ],
   "source": [
    "targetUser = bad_users[bad_users['userId']==1]\n",
    "\n",
    "#print(targetUser)\n",
    "targetUser_bad = targetUser.loc[:,\"bad_health_id\"]\n",
    "#print(\"bad:\",targetUser_bad)\n",
    "for key, value in body_part_names.items():\n",
    "    for bad in targetUser_bad:\n",
    "        if value == bad:\n",
    "            print(key)\n",
    "#def user2bads(userId):\n",
    "    "
   ]
  },
  {
   "cell_type": "code",
   "execution_count": 102,
   "metadata": {},
   "outputs": [],
   "source": [
    "def user2bad(userId):\n",
    "    target = bad_users[bad_users['userId']==userId] \n",
    "    targetUser_bad = target.loc[:,\"bad_health_id\"]\n",
    "    #print(\"bad:\",targetUser_bad)\n",
    "    for key, value in body_part_names.items():\n",
    "        for bad in targetUser_bad:\n",
    "            if value == bad:\n",
    "                print(key)\n",
    "                \n",
    "uesr2bad(1)"
   ]
  },
  {
   "cell_type": "code",
   "execution_count": null,
   "metadata": {},
   "outputs": [],
   "source": [
    "# 너무 적게 평가한 유저 제거\n",
    "rating_per_user_df = pd.DataFrame(rating_per_user)\n",
    "\n",
    "# 평점 데이터 30개 이하일 경우 제거\n",
    "filtered_rating_per_user_df = rating_per_user_df[rating_per_user_df.rating >= 30]\n",
    "rating_users = filtered_rating_per_user_df.index.tolist()"
   ]
  },
  {
   "cell_type": "code",
   "execution_count": null,
   "metadata": {},
   "outputs": [],
   "source": [
    "# 피벗테이블 만들기\n",
    "rating_matrix = filtered_rating.pivot_table(index='user_id', columns='anime_id', values='rating')\n",
    "\n",
    "# 결측치 제거\n",
    "rating_matrix = rating_matrix.fillna(0)\n",
    "rating_matrix.shape"
   ]
  },
  {
   "cell_type": "code",
   "execution_count": null,
   "metadata": {},
   "outputs": [],
   "source": [
    "def similar_users(user_id, matrix, k=5):\n",
    "    # 현재 유저에 대한 데이터프레임 만들기\n",
    "    # matrix의 index = user_id -> 현재 1명 유저에 대한 평가 정보 찾기\n",
    "    user = matrix[matrix.index == user_id]\n",
    "    \n",
    "    # matrix index 값이 user_id와 다른가?\n",
    "    # 일치하지 않는 값들은 other_users\n",
    "    other_users = matrix[matrix.index != user_id]\n",
    "    \n",
    "    # 대상 user, 다른 유저와의 cosine 유사도 계산 \n",
    "    # list 변환\n",
    "    similarities = cosine_similarity(user,other_users)[0].tolist()\n",
    "    \n",
    "    # 다른 사용자의 인덱스 목록 생성\n",
    "    other_users_list = other_users.index.tolist()\n",
    "    \n",
    "    # 인덱스/유사도로 이뤄진 딕셔너리 생성\n",
    "    # dict(zip()) -> {'other_users_list1': similarities, 'other_users_list2': similarities}\n",
    "    user_similarity = dict(zip(other_users_list, similarities))\n",
    "    \n",
    "    # 딕셔너리 정렬\n",
    "    # key=operator.itemgetter(1) -> 오름차순 정렬 -> reverse -> 내림차순\n",
    "    user_similarity_sorted = sorted(user_similarity.items(), key=operator.itemgetter(1))\n",
    "    user_similarity_sorted.reverse()\n",
    "    \n",
    "    # 가장 높은 유사도 k개 정렬하기\n",
    "    top_users_similarities = user_similarity_sorted[:k]\n",
    "    users = [i[0] for i in top_users_similarities]\n",
    "    \n",
    "    return users\n",
    "    # 현재 유저에 대한 정보 찾기\n",
    "    user = matrix[matrix.index == user_id]"
   ]
  },
  {
   "cell_type": "code",
   "execution_count": null,
   "metadata": {},
   "outputs": [],
   "source": [
    "    # 대상 user, 다른 유저와의 cosine 유사도 계산 \n",
    "    # list 변환\n",
    "    similarities = cosine_similarity(user,other_users)[0].tolist()"
   ]
  },
  {
   "cell_type": "code",
   "execution_count": null,
   "metadata": {},
   "outputs": [],
   "source": [
    "    # matrix index 값이 user_id와 다른가?\n",
    "    other_users = matrix[matrix.index != user_id]"
   ]
  },
  {
   "cell_type": "code",
   "execution_count": null,
   "metadata": {},
   "outputs": [],
   "source": [
    "    # 다른 사용자의 인덱스 목록 생성\n",
    "    other_users_list = other_users.index.tolist()\n",
    "    \n",
    "    # 인덱스/유사도로 이뤄진 딕셔너리 생성\n",
    "    # dict(zip()) -> {'other_users_list1': similarities, 'other_users_list2': similarities}\n",
    "    user_similarity = dict(zip(other_users_list, similarities))"
   ]
  },
  {
   "cell_type": "code",
   "execution_count": null,
   "metadata": {},
   "outputs": [],
   "source": [
    "    # 딕셔너리 정렬\n",
    "    # key=operator.itemgetter(1) -> 오름차순 정렬 -> reverse -> 내림차순\n",
    "    user_similarity_sorted = sorted(user_similarity.items(), key=operator.itemgetter(1))\n",
    "    user_similarity_sorted.reverse()\n",
    "    \n",
    "    # 가장 높은 유사도 k개 정렬하기\n",
    "    top_users_similarities = user_similarity_sorted[:k]\n",
    "    users = [i[0] for i in top_users_similarities]"
   ]
  }
 ],
 "metadata": {
  "kernelspec": {
   "display_name": "Python 3.7.16 ('poseDance')",
   "language": "python",
   "name": "python3"
  },
  "language_info": {
   "codemirror_mode": {
    "name": "ipython",
    "version": 3
   },
   "file_extension": ".py",
   "mimetype": "text/x-python",
   "name": "python",
   "nbconvert_exporter": "python",
   "pygments_lexer": "ipython3",
   "version": "3.7.16"
  },
  "orig_nbformat": 4,
  "vscode": {
   "interpreter": {
    "hash": "00e0405336845abcf0835501e01c48c883456636f4283f66e9c6b82d3de1cbd2"
   }
  }
 },
 "nbformat": 4,
 "nbformat_minor": 2
}
